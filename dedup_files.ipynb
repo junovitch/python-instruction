{
 "cells": [
  {
   "cell_type": "markdown",
   "metadata": {},
   "source": [
    "We are going to deduplicate some files today."
   ]
  },
  {
   "cell_type": "code",
   "execution_count": null,
   "metadata": {},
   "outputs": [],
   "source": [
    "import hashlib  # needed for MD5 functionality\n",
    "import shutil   # needed for moving files\n",
    "import os       # needed for various file/directory functions\n",
    "import string   # needed for filenames for test data\n",
    "import random   # needed for making test filenames actually random"
   ]
  },
  {
   "cell_type": "markdown",
   "metadata": {},
   "source": [
    "We'll need one more dependency for generating random text.  The \"Lorem ipsum\" text is a classic placeholder in text and that will work well enough for text file contents."
   ]
  },
  {
   "cell_type": "code",
   "execution_count": null,
   "metadata": {},
   "outputs": [],
   "source": [
    "!pip install lorem\n",
    "import lorem"
   ]
  },
  {
   "cell_type": "code",
   "execution_count": null,
   "metadata": {
    "scrolled": true
   },
   "outputs": [],
   "source": [
    "'''\n",
    "We'll define some directory names to use for our sample data then\n",
    "make directories to have the sorted, unsorted, and duplicated data\n",
    "'''\n",
    "\n",
    "cwd = os.path.abspath('.')\n",
    "sorted_directory = 'sorted'\n",
    "unsorted_directory = 'unsorted'\n",
    "duplicated_directory = 'duplicated'\n",
    "\n",
    "for dir in [sorted_directory, unsorted_directory, duplicated_directory]:\n",
    "    if not os.path.exists(os.path.join(cwd, dir)):\n",
    "        os.mkdir(os.path.join(cwd, dir))"
   ]
  },
  {
   "cell_type": "code",
   "execution_count": null,
   "metadata": {},
   "outputs": [],
   "source": [
    "'''\n",
    "Populate the text variable for data, skip resetting it every X file when\n",
    "there is no remainder from dividing by X, then write that into a randomly\n",
    "named file.\n",
    "'''\n",
    "\n",
    "number_of_files_to_make = 50\n",
    "random_filename_length  = 12\n",
    "duplicate_every_X_files = 5\n",
    "\n",
    "for idx in range(number_of_files_to_make):\n",
    "    random_name = ''.join(random.SystemRandom().choice(string.ascii_lowercase) for _ in range(random_filename_length))\n",
    "    if idx == 0 or idx % duplicate_every_X_files:\n",
    "        text = lorem.text()\n",
    "    with open(os.path.join(cwd, 'unsorted', random_name+'.txt'), 'w+') as f:\n",
    "        f.write(text)"
   ]
  },
  {
   "cell_type": "code",
   "execution_count": null,
   "metadata": {},
   "outputs": [],
   "source": [
    "'''\n",
    "You'll need a wrapper around hashlib.md5() and as that function doesn't fit\n",
    "a whole file in memory at a time (for large files), you'll have to sequentially\n",
    "read a file in a chunk at a time.  You can find some examples searching for\n",
    "\"Python MD5 of a file\"\n",
    "'''\n",
    "def md5Checksum(filePath):\n",
    "    pass  # NOT IMPLEMENTED YET"
   ]
  },
  {
   "cell_type": "code",
   "execution_count": null,
   "metadata": {},
   "outputs": [],
   "source": [
    "'''\n",
    "You'll need to go through each filename in the unsorted_directory now.\n",
    "Create a hash, then store the hash and original filename before moving\n",
    "the filename to sorted_directory or duplicate_directory.\n",
    "'''\n",
    "files_dict = {}\n",
    "\n",
    "# NOT IMPLEMENTED YET - convert the following pseudo code to real code\n",
    "#\n",
    "#for filename in unsorted_dir\n",
    "#    md5 = md5Checksum(filename)\n",
    "#    if md5 is not not in files_dict\n",
    "#        create md5 key in files_dict and it to just filename in a list\n",
    "#        move the file from unsorted to sorted\n",
    "#    else\n",
    "#        append the filename to value for the md5 key in files_dict\n",
    "#        move the file from unsorted to duplicate"
   ]
  },
  {
   "cell_type": "code",
   "execution_count": null,
   "metadata": {},
   "outputs": [],
   "source": [
    "'''\n",
    "You'll need to save the MD5 hashes and original file names before your\n",
    "program closes so we have records of the original locations.  Save them\n",
    "in a CSV file of the MD5 and original filename.\n",
    "\n",
    "Refer to the earlier lesson's examples on opening a file handle for a\n",
    "text file and using the csvwriter.writerow functionality.\n",
    "'''\n",
    "\n",
    "# NOT IMPLEMENTED YET - convert the following pseudo code to real code\n",
    "#\n",
    "#for key,value in dict\n",
    "#    for value in key\n",
    "#        write hash, original filename to CSV"
   ]
  }
 ],
 "metadata": {
  "kernelspec": {
   "display_name": "Python 3",
   "language": "python",
   "name": "python3"
  },
  "language_info": {
   "codemirror_mode": {
    "name": "ipython",
    "version": 3
   },
   "file_extension": ".py",
   "mimetype": "text/x-python",
   "name": "python",
   "nbconvert_exporter": "python",
   "pygments_lexer": "ipython3",
   "version": "3.6.0"
  }
 },
 "nbformat": 4,
 "nbformat_minor": 2
}
