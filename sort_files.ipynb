{
 "cells": [
  {
   "cell_type": "markdown",
   "metadata": {},
   "source": [
    "We are going to sort some files. You can use the techniques here to develop code to triage a large amount of files be it a dump of files at work or a media collection at home.\n",
    "\n",
    "https://automatetheboringstuff.com/chapter9/"
   ]
  },
  {
   "cell_type": "code",
   "execution_count": null,
   "metadata": {},
   "outputs": [],
   "source": [
    "import shutil, os, uuid, glob"
   ]
  },
  {
   "cell_type": "markdown",
   "metadata": {},
   "source": [
    "We'll start off by making a bunch of empty files."
   ]
  },
  {
   "cell_type": "code",
   "execution_count": null,
   "metadata": {
    "scrolled": true
   },
   "outputs": [],
   "source": [
    "cwd = os.path.abspath('.')\n",
    "\n",
    "for file_type in ['txt', 'csv', 'xls', 'mp3', 'jpg', 'gif', 'avi', 'mov', 'junk']:\n",
    "    for random_name in [uuid.uuid4().hex for i in range(10)]:\n",
    "        with open(os.path.join(cwd, random_name+'.'+file_type), 'w+'):\n",
    "            pass # just as a filler, create and close"
   ]
  },
  {
   "cell_type": "markdown",
   "metadata": {},
   "source": [
    "Now lets quickly define the different categories of files we are looking to sort and the possible extensions each could have. We are going to get fancy and show nested lists within a dictionary here."
   ]
  },
  {
   "cell_type": "code",
   "execution_count": null,
   "metadata": {},
   "outputs": [],
   "source": [
    "file_dict = {\n",
    "    'Text': ['txt', 'csv', 'xls'],\n",
    "    'Audio': ['mp3'],\n",
    "    'Images': ['jpg', 'gif'],\n",
    "    'Movies': ['avi', 'mov']\n",
    "}"
   ]
  },
  {
   "cell_type": "code",
   "execution_count": null,
   "metadata": {},
   "outputs": [],
   "source": [
    "# NOT IMPLEMENTED YET\n",
    "for file_type in file_dict.keys():\n",
    "    # NOT IMPLEMENTED YET\n",
    "    print(f\"making directory for {file_type}\")\n",
    "    \n",
    "    for file_extension in file_dict[file_type]:\n",
    "        # NOT IMPLEMENTED YET\n",
    "        print(f\"getting glob for {file_extension}\")\n",
    "        \n",
    "        # NOT IMPLEMENTED YET\n",
    "        print(f\"moving files with shutil\")"
   ]
  },
  {
   "cell_type": "markdown",
   "metadata": {},
   "source": [
    "Now we also had some .junk file above, go ahead and move these to your system recycle bin/trash"
   ]
  },
  {
   "cell_type": "code",
   "execution_count": null,
   "metadata": {},
   "outputs": [],
   "source": [
    "# NOT IMPLEMENTED YET - glob all the *.junk file and send2trash"
   ]
  },
  {
   "cell_type": "markdown",
   "metadata": {},
   "source": [
    "Now lets archive each directory here into a zipfile, follow the creating and adding a zipfile part of chapter 9 and end with Text.zip, Movies.zip, and so forth..."
   ]
  },
  {
   "cell_type": "code",
   "execution_count": null,
   "metadata": {},
   "outputs": [],
   "source": [
    "# NOT IMPLEMENTED YET - import zipfile\n",
    "# NOT IMPLEMENTED YET - for each file_type in file_dict.keys()\n",
    "# NOT IMPLEMENTED YET - make zipfile, add that file_type (directory) to that file_type.zip file"
   ]
  },
  {
   "cell_type": "markdown",
   "metadata": {},
   "source": [
    "Alright, last bit, let's make a .csv file of every file here with the MD5 of that file.\n",
    "\n",
    "You can \"with open\" the CSV at the top of your code block.\n",
    "You can use the file_type in file_dict.keys() again and look in each subdirectory.\n",
    "You can write out each MD5 to your CSV as you go (just md5,filename is enough here).\n",
    "You are on your own to research making an MD5 hash of a file."
   ]
  }
 ],
 "metadata": {
  "kernelspec": {
   "display_name": "Python 3",
   "language": "python",
   "name": "python3"
  },
  "language_info": {
   "codemirror_mode": {
    "name": "ipython",
    "version": 3
   },
   "file_extension": ".py",
   "mimetype": "text/x-python",
   "name": "python",
   "nbconvert_exporter": "python",
   "pygments_lexer": "ipython3",
   "version": "3.6.0"
  }
 },
 "nbformat": 4,
 "nbformat_minor": 2
}
