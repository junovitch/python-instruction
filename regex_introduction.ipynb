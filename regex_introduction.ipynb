{
 "cells": [
  {
   "cell_type": "markdown",
   "metadata": {},
   "source": [
    "# Regular Expressions\n",
    "\n",
    "A regular expression is a special sequences of symbols and/or characters that represent a string or pattern to be search for within a longer piece of text."
   ]
  },
  {
   "cell_type": "markdown",
   "metadata": {},
   "source": [
    "### Regular Expression 101\n",
    "\n",
    "Take some time to work through the regexone.com website for an introduction on using regular expressions. The underlying concepts show here will come into play as you begin using regular expressions in Python.\n",
    "\n",
    "Reference URL: https://regexone.com/"
   ]
  },
  {
   "cell_type": "markdown",
   "metadata": {},
   "source": [
    "### Python Regular Expressions\n",
    "\n",
    "Now armed with the basics on regular expression use, take a look through the documentation for the 're' library. You'll notice a wide range of functionality here. Make note of the findall(), search(), and match() methods available in 're' as you review this material.\n",
    "\n",
    "https://docs.python.org/3/library/re.html"
   ]
  },
  {
   "cell_type": "code",
   "execution_count": null,
   "metadata": {},
   "outputs": [],
   "source": [
    "# import regular expressions like any other module\n",
    "import re"
   ]
  },
  {
   "cell_type": "code",
   "execution_count": null,
   "metadata": {},
   "outputs": [],
   "source": [
    "# define a string with some phone numbers\n",
    "phone = '''\n",
    "Jenny's is 555-867-5309\n",
    "Stanley steamer is (123) 456-7890\n",
    "Another number is 555-1234\n",
    "'''"
   ]
  },
  {
   "cell_type": "markdown",
   "metadata": {},
   "source": [
    "##### Exercise 1\n",
    "\n",
    "Adapt to match entire phone number; whether seperated by a hypen, using the area code in parenthesis format, or having an optional match and no area code at all."
   ]
  },
  {
   "cell_type": "code",
   "execution_count": null,
   "metadata": {},
   "outputs": [],
   "source": [
    "list = re.findall('\\d{3}-\\d{4}', phone)  # Exercise 1 - Fix Me\n",
    "print(list)"
   ]
  },
  {
   "cell_type": "markdown",
   "metadata": {},
   "source": [
    "##### Exercise 2\n",
    "\n",
    "Read the following code before executing, does this return what you expect?"
   ]
  },
  {
   "cell_type": "code",
   "execution_count": null,
   "metadata": {},
   "outputs": [],
   "source": [
    "if re.match('Jenny', phone):\n",
    "    print(\"This return a boolean True so must mention Jenny\")\n",
    "else:\n",
    "    print(\"This return a None or boolean False so no Jenny here!\")"
   ]
  },
  {
   "cell_type": "markdown",
   "metadata": {},
   "source": [
    "##### Exercise 3\n",
    "\n",
    "Take a look at match() and search() a little closer in Python documentation.  Try this function again with a re.search().\n",
    "\n",
    "https://docs.python.org/3/library/re.html#search-vs-match"
   ]
  },
  {
   "cell_type": "code",
   "execution_count": null,
   "metadata": {},
   "outputs": [],
   "source": [
    "if re.search('Jenny', phone):\n",
    "    print(\"This return a boolean True so must mention Jenny\")\n",
    "else:\n",
    "    print(\"This return a None or boolean False so no Jenny here!\")"
   ]
  },
  {
   "cell_type": "markdown",
   "metadata": {},
   "source": [
    "##### Exercise 4\n",
    "\n",
    "Capture groups are a useful tool to extract and act on what you want. We seen these in the regexone drills; let's take a look at accessing these in Python.  You'll need to adjust this block of code to print the individual capture group results.  See the 'Match.group' portion of the Python re documentation for guidance."
   ]
  },
  {
   "cell_type": "code",
   "execution_count": null,
   "metadata": {},
   "outputs": [],
   "source": [
    "text = 'key = this my my value'\n",
    "var = re.match('(.+)\\s=\\s(.+)', text)\n",
    "\n",
    "# NOT IMPLEMENTED YET - Fix me to print each line\n",
    "print(\"The key in capture group 1 is \\'\" + \"TODO FIX ME\" + \"'\")\n",
    "print(\"The value in capture group 2 is \\'\" + \"TODO FIX ME\" + \"'\")"
   ]
  },
  {
   "cell_type": "markdown",
   "metadata": {},
   "source": [
    "##### Further Resources\n",
    "\n",
    "Python specific discussion on regexone.com.\n",
    "\n",
    "https://regexone.com/references/python\n",
    "\n",
    "Online regular expression tester.\n",
    "\n",
    "https://regex101.com/\n"
   ]
  }
 ],
 "metadata": {
  "kernelspec": {
   "display_name": "Python 3",
   "language": "python",
   "name": "python3"
  },
  "language_info": {
   "codemirror_mode": {
    "name": "ipython",
    "version": 3
   },
   "file_extension": ".py",
   "mimetype": "text/x-python",
   "name": "python",
   "nbconvert_exporter": "python",
   "pygments_lexer": "ipython3",
   "version": "3.6.0"
  }
 },
 "nbformat": 4,
 "nbformat_minor": 2
}
