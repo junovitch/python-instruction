{
 "cells": [
  {
   "cell_type": "markdown",
   "metadata": {},
   "source": [
    "Install exifread"
   ]
  },
  {
   "cell_type": "code",
   "execution_count": null,
   "metadata": {},
   "outputs": [],
   "source": [
    "!pip install exifread"
   ]
  },
  {
   "cell_type": "markdown",
   "metadata": {},
   "source": [
    "Import exifread along with a few other modules to handle inspecting this data."
   ]
  },
  {
   "cell_type": "code",
   "execution_count": null,
   "metadata": {},
   "outputs": [],
   "source": [
    "import os\n",
    "import glob\n",
    "import pprint\n",
    "import exifread"
   ]
  },
  {
   "cell_type": "markdown",
   "metadata": {},
   "source": [
    "We'll need some sample data to process EXIF tags on. You may have a batch of photos but for consistency let's use the material from here so we can expect the same results.\n",
    "\n",
    "https://github.com/ianare/exif-samples\n",
    "\n",
    "https://github.com/ianare/exif-samples/archive/master.zip\n",
    "\n",
    "The below assumes you've extracted this zip file under the current working directory."
   ]
  },
  {
   "cell_type": "code",
   "execution_count": null,
   "metadata": {},
   "outputs": [],
   "source": [
    "cwd = os.path.abspath('.')\n",
    "\n",
    "if not os.path.exists(os.path.join(cwd, 'exif-samples-master')):\n",
    "    print(\"exif-samples-master not found\")"
   ]
  },
  {
   "cell_type": "markdown",
   "metadata": {},
   "source": [
    "With the files in place, we can inspect the dictionary dump of the results. This produces a lot of results so pprint will come in handed here."
   ]
  },
  {
   "cell_type": "code",
   "execution_count": null,
   "metadata": {
    "scrolled": false
   },
   "outputs": [],
   "source": [
    "for filename in glob.glob('petra/*.jpg', recursive=True):\n",
    "    \n",
    "    # Open image file for reading (binary mode)\n",
    "    fh = open(os.path.join(cwd, filename), 'rb')\n",
    "\n",
    "    # Return Exif tags\n",
    "    tags = exifread.process_file(fh)\n",
    "    \n",
    "    pprint.pprint(tags)"
   ]
  },
  {
   "cell_type": "markdown",
   "metadata": {},
   "source": [
    "With that, we can define some functionality to pull out and parse out the GPS coordinates that get embedded in EXIF data. We don't have to reinvent the wheel here and can use material that is out there publicly. This is from https://gist.github.com/snakeye/fdc372dbf11370fe29eb."
   ]
  },
  {
   "cell_type": "code",
   "execution_count": null,
   "metadata": {},
   "outputs": [],
   "source": [
    "# https://gist.github.com/snakeye/fdc372dbf11370fe29eb\n",
    "\n",
    "def _get_if_exist(data, key):\n",
    "    if key in data:\n",
    "        return data[key]\n",
    "\n",
    "    return None\n",
    "\n",
    "\n",
    "def _convert_to_degress(value):\n",
    "    \"\"\"\n",
    "    Helper function to convert the GPS coordinates stored in the EXIF to degress in float format\n",
    "    :param value:\n",
    "    :type value: exifread.utils.Ratio\n",
    "    :rtype: float\n",
    "    \"\"\"\n",
    "    d = float(value.values[0].num) / float(value.values[0].den)\n",
    "    m = float(value.values[1].num) / float(value.values[1].den)\n",
    "    s = float(value.values[2].num) / float(value.values[2].den)\n",
    "\n",
    "    return d + (m / 60.0) + (s / 3600.0)\n",
    "    \n",
    "def get_exif_location(exif_data):\n",
    "    \"\"\"\n",
    "    Returns the latitude and longitude, if available, from the provided exif_data (obtained through get_exif_data above)\n",
    "    \"\"\"\n",
    "    lat = None\n",
    "    lon = None\n",
    "\n",
    "    gps_latitude = _get_if_exist(exif_data, 'GPS GPSLatitude')\n",
    "    gps_latitude_ref = _get_if_exist(exif_data, 'GPS GPSLatitudeRef')\n",
    "    gps_longitude = _get_if_exist(exif_data, 'GPS GPSLongitude')\n",
    "    gps_longitude_ref = _get_if_exist(exif_data, 'GPS GPSLongitudeRef')\n",
    "\n",
    "    if gps_latitude and gps_latitude_ref and gps_longitude and gps_longitude_ref:\n",
    "        lat = _convert_to_degress(gps_latitude)\n",
    "        if gps_latitude_ref.values[0] != 'N':\n",
    "            lat = 0 - lat\n",
    "\n",
    "        lon = _convert_to_degress(gps_longitude)\n",
    "        if gps_longitude_ref.values[0] != 'E':\n",
    "            lon = 0 - lon\n",
    "\n",
    "    return lat, lon"
   ]
  },
  {
   "cell_type": "markdown",
   "metadata": {},
   "source": [
    "With the above defined, let's try some functionality to inspect our results."
   ]
  },
  {
   "cell_type": "code",
   "execution_count": null,
   "metadata": {},
   "outputs": [],
   "source": [
    "for filename in glob.glob('exif-samples-master/**/*.jpg', recursive=True):\n",
    "    # Open image file for reading (binary mode)\n",
    "    fh = open(filename, 'rb')\n",
    "\n",
    "    try:\n",
    "        # Return Exif tags\n",
    "        tags = exifread.process_file(fh)\n",
    "    \n",
    "        gps_tuple = get_exif_location(tags)\n",
    "    \n",
    "        if gps_tuple != (None, None):\n",
    "            print(filename, gps_tuple)\n",
    "\n",
    "    # there are known corrupt files, we must handle this\n",
    "    except OSError:\n",
    "        pass\n",
    "    except ZeroDivisionError:\n",
    "        pass"
   ]
  },
  {
   "cell_type": "markdown",
   "metadata": {},
   "source": [
    "With the above worked out, let's try to visualize these results more effectively."
   ]
  },
  {
   "cell_type": "code",
   "execution_count": null,
   "metadata": {},
   "outputs": [],
   "source": [
    "!pip install folium"
   ]
  },
  {
   "cell_type": "code",
   "execution_count": null,
   "metadata": {},
   "outputs": [],
   "source": [
    "import folium"
   ]
  },
  {
   "cell_type": "markdown",
   "metadata": {},
   "source": [
    "Let's center on the Eiffel Tower in Paris since we have multiple images with Europe EXIF data"
   ]
  },
  {
   "cell_type": "code",
   "execution_count": null,
   "metadata": {},
   "outputs": [],
   "source": [
    "map_ = folium.Map(location=[48.8584, 2.2945], zoom_start=3)"
   ]
  },
  {
   "cell_type": "markdown",
   "metadata": {},
   "source": [
    "Try it out! Swap the print of lat/lon for marking up a map."
   ]
  },
  {
   "cell_type": "code",
   "execution_count": null,
   "metadata": {},
   "outputs": [],
   "source": [
    "for filename in glob.glob('exif-samples-master/**/*.jpg', recursive=True):\n",
    "    # Open image file for reading (binary mode)\n",
    "    fh = open(filename, 'rb')\n",
    "\n",
    "    try:\n",
    "        # Return Exif tags\n",
    "        tags = exifread.process_file(fh)\n",
    "    \n",
    "        gps_tuple = get_exif_location(tags)\n",
    "    \n",
    "        if gps_tuple != (None, None):\n",
    "            # print(filename, gps_tuple)\n",
    "            folium.Marker(gps_tuple).add_to(map_)\n",
    "\n",
    "    # there are known corrupt files, we must handle this\n",
    "    except OSError:\n",
    "        pass\n",
    "    except ZeroDivisionError:\n",
    "        pass"
   ]
  },
  {
   "cell_type": "markdown",
   "metadata": {},
   "source": [
    "Display it!"
   ]
  },
  {
   "cell_type": "code",
   "execution_count": null,
   "metadata": {},
   "outputs": [],
   "source": [
    "map_"
   ]
  },
  {
   "cell_type": "code",
   "execution_count": null,
   "metadata": {},
   "outputs": [],
   "source": []
  }
 ],
 "metadata": {
  "kernelspec": {
   "display_name": "Python 3",
   "language": "python",
   "name": "python3"
  },
  "language_info": {
   "codemirror_mode": {
    "name": "ipython",
    "version": 3
   },
   "file_extension": ".py",
   "mimetype": "text/x-python",
   "name": "python",
   "nbconvert_exporter": "python",
   "pygments_lexer": "ipython3",
   "version": "3.6.0"
  }
 },
 "nbformat": 4,
 "nbformat_minor": 2
}
