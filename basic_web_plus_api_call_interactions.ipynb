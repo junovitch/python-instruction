{
 "cells": [
  {
   "cell_type": "markdown",
   "metadata": {},
   "source": [
    "Today we'll learn how to do some basic web interactions. The end\n",
    "state will be you have an introductory knowledge towards requesting\n",
    "data in your Python scripts from external websites. \n",
    "\n",
    "This will be based on Automate the Boring Stuff chapter 11 with some\n",
    "supplementary material for saving that data from chapter 14.\n",
    "\n",
    "Reference:\n",
    "https://automatetheboringstuff.com/chapter11/\n",
    "https://automatetheboringstuff.com/chapter14/"
   ]
  },
  {
   "cell_type": "code",
   "execution_count": null,
   "metadata": {},
   "outputs": [],
   "source": [
    "'''\n",
    "Start with importing and doing a basic check of the webbrowser\n",
    "module. Note that since you are already in jupyter notebook this\n",
    "will just open a new tab.\n",
    "'''\n",
    "import webbrowser\n",
    "webbrowser.open('https://www.google.com')"
   ]
  },
  {
   "cell_type": "code",
   "execution_count": null,
   "metadata": {},
   "outputs": [],
   "source": [
    "'''\n",
    "You can take this to the next step by opening a more specific URL path\n",
    "'''\n",
    "address = \"Washington DC\"\n",
    "webbrowser.open('https://www.google.com/maps/place/' + address)"
   ]
  },
  {
   "cell_type": "code",
   "execution_count": null,
   "metadata": {},
   "outputs": [],
   "source": [
    "'''\n",
    "Often you can get what you are looking for by formatting a search with\n",
    "the correct terms. Adjust this to do a plain search on google.com below.\n",
    "This is essentially entry level URL dorking and you can use this in the\n",
    "future to format more advanced search strings.\n",
    "\n",
    "Before you change anything, take a note of the different style of comment\n",
    "blocks.  The triple quote style can be used to enclose large chunks of\n",
    "text while the hashtag you see below can only comment a single line.\n",
    "'''\n",
    "def lmgtfy(search):\n",
    "    # NOT IMPLEMENTED YET\n",
    "    pass\n",
    "    \n",
    "lmgtfy(\"python learning\")"
   ]
  },
  {
   "cell_type": "markdown",
   "metadata": {},
   "source": [
    "Our next learning objective will be basic usage of the requests module.\n",
    "Opening a web page in a browser usually isn't of value for your scripts.\n",
    "Requests will let you programatically download a page and you can take\n",
    "further actions on it in code.\n",
    "\n",
    "Let's start by installing it."
   ]
  },
  {
   "cell_type": "code",
   "execution_count": null,
   "metadata": {
    "scrolled": true
   },
   "outputs": [],
   "source": [
    "!pip install requests"
   ]
  },
  {
   "cell_type": "markdown",
   "metadata": {},
   "source": [
    "Import all modules you will need for the next section. You can read\n",
    "a bit more for what you will need at the links below.\n",
    "\n",
    "https://docs.python.org/3/library/csv.html\n",
    "\n",
    "http://docs.python-requests.org/en/master/user/quickstart/#json-response-content"
   ]
  },
  {
   "cell_type": "code",
   "execution_count": null,
   "metadata": {},
   "outputs": [],
   "source": [
    "import csv\n",
    "import os\n",
    "import requests"
   ]
  },
  {
   "cell_type": "markdown",
   "metadata": {},
   "source": [
    "Fetch the information you will need. Note you only need to do this\n",
    "once as further work you will do will already be stored in the 'r'\n",
    "variable."
   ]
  },
  {
   "cell_type": "code",
   "execution_count": null,
   "metadata": {},
   "outputs": [],
   "source": [
    "# GET /events\n",
    "r = requests.get('https://api.github.com/events')"
   ]
  },
  {
   "cell_type": "markdown",
   "metadata": {},
   "source": [
    "One of the key aspects of data science often comes down to understanding the data you are looking at. Let's take a moment to inspect three different syntaxes."
   ]
  },
  {
   "cell_type": "code",
   "execution_count": null,
   "metadata": {},
   "outputs": [],
   "source": [
    "'''\n",
    "Inspect full .json() method\n",
    "\n",
    "Look very close at the results, note the first character is\n",
    "a [ meaning the result is a list. Note the second character\n",
    "is a { meaning each entry in the list is a dictionary.\n",
    "'''\n",
    "r.json()"
   ]
  },
  {
   "cell_type": "code",
   "execution_count": null,
   "metadata": {},
   "outputs": [],
   "source": [
    "'''\n",
    "Knowing the data is a list, we can access index 0 for the first\n",
    "element of the list.\n",
    "'''\n",
    "r.json()[0]"
   ]
  },
  {
   "cell_type": "code",
   "execution_count": null,
   "metadata": {},
   "outputs": [],
   "source": [
    "'''\n",
    "Knowing that each element in the list is a dictionary we can access\n",
    "it via the dictionary key.\n",
    "\n",
    "Enumerage the login name of user (actor) mentioned above.\n",
    "'''\n",
    "r.json()[0]['actor']['login']"
   ]
  },
  {
   "cell_type": "code",
   "execution_count": null,
   "metadata": {
    "scrolled": true
   },
   "outputs": [],
   "source": [
    "'''\n",
    "You now have enough pieces to query multiple aspects of the data.\n",
    "I'd like you to get three fields out of each element in the json()\n",
    "list from our initial GET request.\n",
    "\n",
    "The username: This is the 'login' key/value pair under the 'actor' key\n",
    "The repo URL: This is the 'name' key/value pair under the 'repo' key\n",
    "The entry time: This is the 'created_at' key\n",
    "\n",
    "Hint: The repo URL can be shown by concatenating the github URL and name\n",
    "like shown below:\n",
    "\n",
    "'https://github.com/' + entry['repo']['name']\n",
    "\n",
    "'''\n",
    "cwd = os.path.abspath('.')\n",
    "with open(os.path.join(cwd, \"api_output.csv\"), 'w+') as csvfile:\n",
    "\n",
    "    # Get a csv object to write to (hint use ATBS chapter 14)\n",
    "    # NOT IMPLEMENTED YET, you need to set 'csvwriter = ... something ...\")\n",
    "    \n",
    "    # Write out a header line\n",
    "    # NOT IMPLEMENTED YET, easy one, just uncomment below and delete me\")\n",
    "    # csvwriter.writerow(['USERNAME', 'REPO_URL', 'ENTRY_TIME'])\n",
    "    \n",
    "    # Write out each entry with the portions we care about into the CSV\n",
    "    for entry in r.json():\n",
    "        # NOT IMPLEMENTED YET, use writerow of the three fields\n",
    "        # mentioned above into the CSV file\n",
    "        print(\"Ouch, being deleted hurts, you gotta figure this part out on your own\")"
   ]
  },
  {
   "cell_type": "markdown",
   "metadata": {},
   "source": [
    "Alright, you got the gist of things now. Your next step is to identify\n",
    "an API that you would like to interact with. Write some code to make a\n",
    "query, inspect that result, and selectively pull out some information\n",
    "you find interesting from it.\n",
    "\n",
    "Many sites require an API key to retrive data. Even something as innocuous as a request to get the weather can be abused by someone\n",
    "looking to get something for free. You can find a list of sites below\n",
    "that offer a free unauthenticated API.\n",
    "\n",
    "https://shkspr.mobi/blog/2016/05/easy-apis-without-authentication/\n",
    "\n",
    "If you can't think of anything interesting here's two ideas, an easy\n",
    "one and a harder one where you'll have to do a bit of research:\n",
    "\n",
    "1. Query all Star Wars universe planets, inspect the raw data, note\n",
    "   that the planets list different climates so iterate through the\n",
    "   list of planets and only show the name of planets with 'temperate'\n",
    "   in the 'climate' key. Use a requests GET on the following URL to\n",
    "   get you started:\n",
    "   \n",
    "   https://swapi.co/api/planets/\n",
    "   \n",
    "2. Query the Google books API documented at the below link and show\n",
    "   a summary of your most recent book.\n",
    "\n",
    "   https://developers.google.com/books/"
   ]
  },
  {
   "cell_type": "code",
   "execution_count": null,
   "metadata": {},
   "outputs": [],
   "source": [
    "'''\n",
    "NOT IMPLEMENTED YET - make it happen!\n",
    "'''"
   ]
  }
 ],
 "metadata": {
  "kernelspec": {
   "display_name": "Python 3",
   "language": "python",
   "name": "python3"
  },
  "language_info": {
   "codemirror_mode": {
    "name": "ipython",
    "version": 3
   },
   "file_extension": ".py",
   "mimetype": "text/x-python",
   "name": "python",
   "nbconvert_exporter": "python",
   "pygments_lexer": "ipython3",
   "version": "3.6.0"
  }
 },
 "nbformat": 4,
 "nbformat_minor": 2
}
