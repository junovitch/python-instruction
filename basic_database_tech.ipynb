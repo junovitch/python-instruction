{
 "cells": [
  {
   "cell_type": "markdown",
   "metadata": {},
   "source": [
    "#  Databases\n",
    "\n",
    "Today's lesson will cover basic database concepts followed by how to interact with a database in Python.\n",
    "\n",
    "First off, what is a database?\n",
    "\n",
    "According to Wikipedia (https://en.wikipedia.org/wiki/Database) a database is is an organized collection of data, generally stored and accessed electronically from a computer system.\n",
    "\n",
    "This is a broad definition that covers a multitude of technology."
   ]
  },
  {
   "cell_type": "markdown",
   "metadata": {},
   "source": [
    "# Relational databases\n",
    "\n",
    "Relational databases have been around since the '70s and are in use in major tech when we want very structured data.\n",
    "\n",
    "We'll return to relational database shortly some familiarity with other database technologies."
   ]
  },
  {
   "cell_type": "markdown",
   "metadata": {},
   "source": [
    "# Flat file database\n",
    "\n",
    "If you are on a Linux or Mac machine you can look at the /etc/passwd file for an example of a flat file database used by your system. If you aren't on a Linux or Mac for this class find someone who is and look at the output of the below command.\n",
    "\n",
    "You'll note this is similar to a comma separated spreadsheet that you have likely had exposure to in the past. However in this case the delimiter of the CSV format is a colon."
   ]
  },
  {
   "cell_type": "code",
   "execution_count": null,
   "metadata": {},
   "outputs": [],
   "source": [
    "!cat /etc/passwd"
   ]
  },
  {
   "cell_type": "markdown",
   "metadata": {},
   "source": [
    "# Non-relational Databases\n",
    "\n",
    "Non-relational databases are much newer and in today's digital world allowing for interesting and complex use cases. Whereas relational databases require data to be very structured, non-relational databases do not and allow for a range of unstructured to semi-structured content."
   ]
  },
  {
   "cell_type": "markdown",
   "metadata": {},
   "source": [
    "# Non-relational database: Key-Value Stores\n",
    "\n",
    "Key-Value Stores store data in a key-value mapping as the name suggests.\n",
    "\n",
    "Let's review common Python data types to get a sense on what makes this valuable.\n",
    "\n",
    "You'll note below the dictionary is the data type that is used for key-value mapping in Python. However the dictionary you define above is only relevant in this Python script. Whereas with a key-value storage database like Redis, you can persistently store data, use it in memory only for the speedy access the key-value mapping gives, or even use the same data in a networked application. \n",
    "\n",
    "More reading: https://opensource.com/article/18/4/how-build-hello-redis-with-python"
   ]
  },
  {
   "cell_type": "code",
   "execution_count": null,
   "metadata": {},
   "outputs": [],
   "source": [
    "# an integer is simply a whole number\n",
    "int_variable = 20\n",
    "# a float is a number with a decimal place\n",
    "float_varaible = 3.14159265359\n",
    "# a string is a arbitrary amount of chars\n",
    "str_variable = \"Python is great\"\n",
    "# a boolean is a True or False\n",
    "bool_variable = True\n",
    "# a list is multiple other variables and can be changed\n",
    "list_object = [30, 2.71828, \"Word\"]\n",
    "# a tuple is multiple other variables and cannot be changed\n",
    "tuple_object = (38.897957, -77.036560)\n",
    "# a dictionary is an unordered mapping of items\n",
    "dict_object = {'vegetables': ['kale', 'lettuce', 'cucumber'],\n",
    "               'fruits':     ['apple', 'banana', 'kiwi'],\n",
    "               'meats':      ['beef', 'chicken', 'pork']\n",
    "              }"
   ]
  },
  {
   "cell_type": "markdown",
   "metadata": {},
   "source": [
    "# Non-relational databases: Wide Column Stores\n",
    "    \n",
    "It uses tables, rows, and columns, but unlike a relational database, the names and format of the columns can vary from row to row in the same table.\n",
    "\n",
    "More reading: https://indexoutofrange.com/What-a-the-problem-with-key-value-databases-and-how-wide-column-databases-solve-it/"
   ]
  },
  {
   "cell_type": "markdown",
   "metadata": {},
   "source": [
    "# Non-relational databases: Document Stores\n",
    "    \n",
    "Document stores will accept arbitrary data in the form of JSON formatted documents.  You'll recall we manipulated JSON in the earlier Basic Web Plus API Call Interactions exercise.  It's formatted and accessed very simliar to a Python dictionary.\n",
    "\n",
    "More reading: https://realpython.com/introduction-to-mongodb-and-python/"
   ]
  },
  {
   "cell_type": "markdown",
   "metadata": {},
   "source": [
    "# Non-relational databases: Graph Databases\n",
    "\n",
    "Graph databases focus on storing the relationships between items in each graph node. Whereas a relational database would require seperate storage to document the relationships between the strictly structured data, a graph database simplifies the process. Each node of data can have relationshps to other nodes of data.\n",
    "\n",
    "```\n",
    "+-------+                     +-----+\n",
    "| Alice |--- FRIENDS WITH --- | BOB |\n",
    "+-------+                     +-----+\n",
    "    |\n",
    "RELATED TO\n",
    "    |\n",
    "+---------+    \n",
    "| Charlie |\n",
    "+---------+\n",
    "```\n",
    "\n",
    "More reading: https://medium.com/labcodes/graph-databases-talking-about-your-data-relationships-with-python-b438c689dc89"
   ]
  },
  {
   "cell_type": "markdown",
   "metadata": {},
   "source": [
    "# Non-relational databases: Search Engines\n",
    "    \n",
    "Search engines store data in schema-free JSON documents. Conceptually this is simliar to a document store but the focus is on searching the data.\n",
    "\n",
    "Take a moment to explore the Kibana interface of the popular combo of Elasticsearch, Logstash, and Kibana, also known as the ELK stack.\n",
    "\n",
    "Demo: https://demo.elastic.co/app/kibana#/discover"
   ]
  },
  {
   "cell_type": "markdown",
   "metadata": {},
   "source": [
    "# Relational database: SQL\n",
    "    \n",
    "Today we'll focus on SQLite. MySQL and PostgreSQL are two other very common open source databases that are fairly straight forward to interact with from Python. However they require additional work to set up that is beyond the scope of learning today.\n",
    "\n",
    "More reading: https://docs.python.org/3/library/sqlite3.html"
   ]
  },
  {
   "cell_type": "code",
   "execution_count": null,
   "metadata": {},
   "outputs": [],
   "source": [
    "import sqlite3"
   ]
  },
  {
   "cell_type": "code",
   "execution_count": null,
   "metadata": {},
   "outputs": [],
   "source": [
    "# Remember we can query the documentation strings to see what we can do\n",
    "sqlite3.connect?"
   ]
  },
  {
   "cell_type": "code",
   "execution_count": null,
   "metadata": {},
   "outputs": [],
   "source": [
    "# We need a Connection object to interact with\n",
    "conn = sqlite3.connect(\"my_training.db\")"
   ]
  },
  {
   "cell_type": "code",
   "execution_count": null,
   "metadata": {},
   "outputs": [],
   "source": [
    "# Once we have the \"Connection\" object, we'll need a\n",
    "# \"Cursor\" object to actually perform SQL commands\n",
    "c = conn.cursor()"
   ]
  },
  {
   "cell_type": "markdown",
   "metadata": {},
   "source": [
    "A Table is the first level of structure inside your database. At the most basic level you are already familiar with the concept. If a database is an Excel file then a table is conceptually similiar to a workbook. That workbook contains additional rows (also known as tuples or records) and columns (also known as attributes or fields)."
   ]
  },
  {
   "cell_type": "code",
   "execution_count": null,
   "metadata": {},
   "outputs": [],
   "source": [
    "# Create table\n",
    "c.execute('''CREATE TABLE people\n",
    "             (ssn INTEGER PRIMARY KEY,\n",
    "              fname TEXT,\n",
    "              lname TEXT,\n",
    "              home_phone TEXT,\n",
    "              cell_phone TEXT,\n",
    "              birthdate TEXT)''')"
   ]
  },
  {
   "cell_type": "markdown",
   "metadata": {},
   "source": [
    "You'll notice a few themes in the statement above that have some carry over with what you have been learning so far. Integers/Text (strings) are something you have been dealing with.\n",
    "\n",
    "The \"PRIMARY KEY\" here may be unfamiliar. In SQL the primary key is the unique identifier of your data. Often this can just be an incrementing integer that serves as a record ID at the time of creation. People can have the same names or birthdays so I've decided to set a social security number as the primary key here as I'll be using this code in the future for a new credit reporting bureau and obviously one SSN could only ever be one person's credit..."
   ]
  },
  {
   "cell_type": "code",
   "execution_count": null,
   "metadata": {},
   "outputs": [],
   "source": [
    "# Insert a row of data\n",
    "c.execute('''INSERT INTO people VALUES\n",
    "             (123456789,'Jenny','Smith','555-867-5309','', '1981-11-16')\n",
    "             ''')\n",
    "\n",
    "# Save (commit) the changes\n",
    "conn.commit()"
   ]
  },
  {
   "cell_type": "code",
   "execution_count": null,
   "metadata": {},
   "outputs": [],
   "source": [
    "for row in c.execute('''SELECT * FROM people'''):\n",
    "    print(row)"
   ]
  },
  {
   "cell_type": "markdown",
   "metadata": {},
   "source": [
    "Now I want you to create a new table called 'address'. Each person can have only one address tied to them. We haven't gotten to this concept yet but you'll make use of the FOREIGN KEY in this section."
   ]
  },
  {
   "cell_type": "code",
   "execution_count": null,
   "metadata": {},
   "outputs": [],
   "source": [
    "# enable FOREIGN KEY support\n",
    "c.execute('PRAGMA foreign_keys = ON')"
   ]
  },
  {
   "cell_type": "code",
   "execution_count": null,
   "metadata": {},
   "outputs": [],
   "source": [
    "# NOT IMPLEMENTED YET\n",
    "# Make \"address\" table\n",
    "# INTEGER for \"ssn\"\n",
    "# TEXT files for \"address\", \"city\", \"state\", and \"zip\"\n",
    "# FOREIGN KEY to the people table \"ssn\"\n",
    "\n",
    "\n",
    "# Save (commit) the changes\n",
    "conn.commit()"
   ]
  },
  {
   "cell_type": "code",
   "execution_count": null,
   "metadata": {},
   "outputs": [],
   "source": [
    "# NOT IMPLEMENTED YET\n",
    "# INSERT a value for the person above\n",
    "\n",
    "\n",
    "# Save (commit) the changes\n",
    "conn.commit()"
   ]
  },
  {
   "cell_type": "code",
   "execution_count": null,
   "metadata": {},
   "outputs": [],
   "source": [
    "# NOT IMPLEMENTED YET\n",
    "# Try to INSERT a value for a random SSN, observe the IntegrityError"
   ]
  },
  {
   "cell_type": "code",
   "execution_count": null,
   "metadata": {},
   "outputs": [],
   "source": [
    "# NOT IMPLEMENTED YET\n",
    "# write a SELECT ... FROM .. JOIN ... ON ... statement\n",
    "# return the SSN, fname, lnane, address, city, state, zip of entries above\n",
    "for r in c.execute(\"SELECT ... FROM ... JOIN ... ON ...\"):\n",
    "    print(r)"
   ]
  },
  {
   "cell_type": "code",
   "execution_count": null,
   "metadata": {},
   "outputs": [],
   "source": [
    "# NOT IMPLEMENTED YET\n",
    "# create \"emailcontact\" table\n",
    "# INTEGER for \"ssn\"\n",
    "# TEXT files for \"email\" with UNIQUE contraint\n",
    "# FOREIGN KEY to the people table \"ssn\"\n",
    "#\n",
    "# Here we will use our database to prevent a user from using\n",
    "# someone else's email #ThereCanOnlyBeOne\n",
    "\n",
    "\n",
    "# Save (commit) the changes\n",
    "conn.commit()"
   ]
  },
  {
   "cell_type": "code",
   "execution_count": null,
   "metadata": {},
   "outputs": [],
   "source": [
    "# NOT IMPLEMENTED YET\n",
    "# OK I changed my mind, I want to execute a 'DROP TABLE emailcontact'"
   ]
  },
  {
   "cell_type": "markdown",
   "metadata": {},
   "source": [
    "The above was a basic introduction to interacting with databases. SQLite is good for initial learning but in larger environments a database that supports network access and has more robust access control is require. Python has modules that you can pip install to handle MySQL access (mysql-connector-python) and PostgreSQL access (py-postgresql) however setting up MySQL and PostgreSQL are beyond the scope of the topic for today.\n",
    "\n",
    "References:\n",
    "https://www.alooma.com/blog/types-of-modern-databases\n",
    "http://www.upi.pr.it/docs/easfg/easvrfgp7.htm\n",
    "https://www.techopedia.com/6/28832/enterprise/databases/introduction-to-databases/5\n",
    "https://www.shsu.edu/~csc_tjm/summer2000/cs334/Chapter01/Chap01-97.html"
   ]
  }
 ],
 "metadata": {
  "kernelspec": {
   "display_name": "Python 3",
   "language": "python",
   "name": "python3"
  },
  "language_info": {
   "codemirror_mode": {
    "name": "ipython",
    "version": 3
   },
   "file_extension": ".py",
   "mimetype": "text/x-python",
   "name": "python",
   "nbconvert_exporter": "python",
   "pygments_lexer": "ipython3",
   "version": "3.6.0"
  }
 },
 "nbformat": 4,
 "nbformat_minor": 2
}
