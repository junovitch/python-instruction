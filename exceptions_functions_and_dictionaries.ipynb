{
 "cells": [
  {
   "cell_type": "markdown",
   "metadata": {},
   "source": [
    "# Lesson Goals:\n",
    "\n",
    "- Understand exception handling syntax and techniques\n",
    "- Understand functions and the difference between recursive and iterative use\n",
    "- Understand complex dictionary use\n",
    "- Understand techniques for formatting output for user presentation"
   ]
  },
  {
   "cell_type": "markdown",
   "metadata": {},
   "source": [
    "# Exception handling\n",
    "Exception handling is important in real world use of any programming language. Not all actions will succeed 100% of the time. That could be perfectly OK depending on your intended use. Let's explore this technique with an example."
   ]
  },
  {
   "cell_type": "code",
   "execution_count": null,
   "metadata": {},
   "outputs": [],
   "source": [
    "import os     # used for various file/directory operations\n",
    "import pprint # used for cleaner dictionary printing\n",
    "\n",
    "try:\n",
    "    from termcolor import colored # termcolor module used for fancy printing to user\n",
    "except ModuleNotFoundError:\n",
    "    !pip install termcolor\n",
    "    from termcolor import colored"
   ]
  },
  {
   "cell_type": "markdown",
   "metadata": {},
   "source": [
    "### Warning\n",
    "The above is an anti-pattern not for real world use in your code. It's bad practice to assume on behalf of the users of your code that they want additional packages installed and this could be security vulnerability if ever actively targeted. Additionally, you won't always know if you have permissions to install packages depending on if code is run using the system Python or in a virtual environment.\n",
    "\n",
    "Additional reading: https://docs.python.org/3/tutorial/errors.html"
   ]
  },
  {
   "cell_type": "code",
   "execution_count": null,
   "metadata": {},
   "outputs": [],
   "source": [
    "'''\n",
    "What termcolor gives us is easy use of ANSI escape sequences for color coding our output.\n",
    "'''\n",
    "print(colored('hello', 'red'), colored('world', 'green'))"
   ]
  },
  {
   "cell_type": "markdown",
   "metadata": {},
   "source": [
    "# Functions\n",
    "\n",
    "##### Recursive Functions\n",
    "It's been said that to understand recursion you must understand recursion. In programming terms, a recursion function is one where the function will call itself inside of it's function definition. Its value in practice depends on the programming language and use case. It can result in a very compact piece of code or it can result in infinite loop that never terminates if not used carefully.\n",
    "\n",
    "The example below uses a recursive function so that I can pass a reference a directory path that may be several folders deep in the dictionary mapping of file and folder names.\n",
    "\n",
    "#### Iterative Functions\n",
    "Iteration is a repeated action through a set of data until completed or a condition is reached. Python is very good at iteration and you are familiar with iterative actions such as `for` and `while` loops on data."
   ]
  },
  {
   "cell_type": "code",
   "execution_count": null,
   "metadata": {
    "scrolled": true
   },
   "outputs": [],
   "source": [
    "'''\n",
    "Populate a dictionary given a path and an empty dictionary.\n",
    "\n",
    "This uses the os.scandir which provides additional metadata about\n",
    "items in the path than os.listdir. The result is an DirEntry object\n",
    "with items we can enumerate and act upon.\n",
    "\n",
    "https://docs.python.org/3/library/os.html#os.scandir\n",
    "https://docs.python.org/3/library/os.html#os.DirEntry\n",
    "'''\n",
    "\n",
    "def recursive_directory_tree(path, structure):\n",
    "\n",
    "    try:\n",
    "        with os.scandir(path) as it:\n",
    "            for entry in it:\n",
    "\n",
    "                # Add files that are not hidden files (starting with . on Linux/Mac)\n",
    "                if not entry.name.startswith('.') and entry.is_file():\n",
    "                    print(colored(\"[+] Found file, updating value None for key:\", 'green'),\n",
    "                          colored(entry.name, 'blue'))\n",
    "                    structure.update({entry.name: None})\n",
    "\n",
    "                # Add directories that are not hidden and not shortcuts/symlinks\n",
    "                elif not entry.name.startswith('.') and entry.is_dir() and not entry.is_symlink():\n",
    "                    print(colored(\"[+] Found directory, updating value {} for key:\", 'green'),\n",
    "                          colored(entry.name, 'blue'))\n",
    "                    structure.update({entry.name: {}})\n",
    "\n",
    "                    print(colored(\"[*] Performing recursive function call on:\", 'green'),\n",
    "                          colored(entry.path, 'blue'))\n",
    "                    recursive_directory_tree(entry.path, structure[entry.name])\n",
    "\n",
    "    # Print colored warning when there is no permissions to directory\n",
    "    except PermissionError:\n",
    "        print(colored(\"[!] Skipping due to PermissionError for path:\", 'red'),\n",
    "            colored(path, 'red', attrs=['bold']))\n",
    "    \n",
    "    # Skip \"osError: [Errno 34] Result too large\" issue, why? I don't know...\n",
    "    except OSError as e:\n",
    "        if e == 34:\n",
    "            pass\n",
    "\n",
    "'''\n",
    "With the above defined, we can define a path to enumerate and provide\n",
    "an empty dictionary.\n",
    "\n",
    "You may enumerate /Users (on Mac) or your \"C:\\Users\" (on Windows) however\n",
    "be prepared for it to take a bit longer to complete.\n",
    "'''\n",
    "path = '.'\n",
    "structure = {}\n",
    "recursive_directory_tree(path, structure)"
   ]
  },
  {
   "cell_type": "markdown",
   "metadata": {},
   "source": [
    "#### Exercise 1\n",
    "\n",
    "Earlier we imported the 'pprint' module. Let's use that now and investigate the output.\n",
    "\n",
    "The indentation helps the human eye quite a bit here. Note that this is very complicated dictionary. There would be nothing stopping you from enumerating a key directly as well using bracketed dictionary notation."
   ]
  },
  {
   "cell_type": "code",
   "execution_count": null,
   "metadata": {},
   "outputs": [],
   "source": [
    "pprint.pprint(structure)"
   ]
  },
  {
   "cell_type": "code",
   "execution_count": null,
   "metadata": {},
   "outputs": [],
   "source": [
    "# NOTE: This may vary depending on Python version installed and Windows/Linux\n",
    "# Ensure you can print a valid path below based off looking at the earlier dictionary structure contents\n",
    "pprint.pprint(structure['venv']['lib']['python3.6'])"
   ]
  },
  {
   "cell_type": "markdown",
   "metadata": {},
   "source": [
    "#### Exercise 2\n",
    "\n",
    "Convert the following pseudo code to a valid recursive function.\n",
    "\n",
    "Note we haven't explored the concept of arbitrary keyword arguements passed to a function. Here we have an optional 'depth' keyword argument that is used to appropriately pad the output for the human at the terminal. You'll need to do some research on the syntax of kwargs to see how to pass this appropriately."
   ]
  },
  {
   "cell_type": "code",
   "execution_count": null,
   "metadata": {},
   "outputs": [],
   "source": [
    "'''\n",
    "Print a tree directory from the structure dictionary\n",
    "\n",
    "This is losely based on the Linux 'tree' command.\n",
    "\n",
    "https://www.cyberciti.biz/faq/linux-show-directory-structure-command-line/\n",
    "'''\n",
    "\n",
    "def recursive_directory_print(structure, **kwargs):\n",
    "    for item in structure:\n",
    "\n",
    "        depth       = kwargs.get('depth', 0)\n",
    "        file_prefix = '|' + '-' * depth\n",
    "        dir_prefix  = '+' + '-' * depth\n",
    "        \n",
    "        # NOT IMPLEMENTED YET - make me print yo\n",
    "        \n",
    "        # if type of structure[item] is dictionary\n",
    "            # print directory prefix, item\n",
    "            # add 1 to depth of printint\n",
    "            # recursive function call passing structure[item] and depth kwarg\n",
    "            \n",
    "        # if structure[item] equals None\n",
    "            # print file prefix, item\n",
    "\n",
    "recursive_directory_print(structure)"
   ]
  },
  {
   "cell_type": "markdown",
   "metadata": {},
   "source": [
    "#### Exercise 3\n",
    "\n",
    "Copy/paste the recursive_directory_tree() above into the code block below. Add a new kwarg for a specific file type and add a check for \"endswith\" that file type.  Search for a 'mp3' or another type of media you have on your system and ensure after running the block of code below that the code above will only print that type of file."
   ]
  },
  {
   "cell_type": "code",
   "execution_count": null,
   "metadata": {},
   "outputs": [],
   "source": [
    "# NOT IMPLEMENTED YET - exercise 3 goes here"
   ]
  },
  {
   "cell_type": "markdown",
   "metadata": {},
   "source": [
    "#### Exercise 4\n",
    "\n",
    "Review alternate techniques for accomplishing the above. Keep in mind that sometimes you won't have to reinvent the wheel."
   ]
  },
  {
   "cell_type": "code",
   "execution_count": null,
   "metadata": {},
   "outputs": [],
   "source": [
    "# Basic example of printing all files and directories (non tree style)\n",
    "for root, dirs, files in os.walk(path, topdown=False):\n",
    "   for name in files: print(os.path.join(root, name))\n",
    "   for name in dirs:  print(os.path.join(root, name))"
   ]
  },
  {
   "cell_type": "code",
   "execution_count": null,
   "metadata": {},
   "outputs": [],
   "source": [
    "!pip install py-tree\n",
    "import py_tree\n",
    "py_tree.main(path)"
   ]
  },
  {
   "cell_type": "markdown",
   "metadata": {},
   "source": [
    "#### Advanced: Exercise 5\n",
    "\n",
    "Copy/paste the recursive_directory_tree() function and rename it to just directory_tree().  Convert the function to an iterative use where you keep track of the current path you are scanning and iterate through all contents of the file path. You will not call the function within itself in this variant."
   ]
  },
  {
   "cell_type": "code",
   "execution_count": null,
   "metadata": {},
   "outputs": [],
   "source": [
    "# NOT IMPLENTED YET - exercise 5 goes here"
   ]
  }
 ],
 "metadata": {
  "kernelspec": {
   "display_name": "Python 3",
   "language": "python",
   "name": "python3"
  },
  "language_info": {
   "codemirror_mode": {
    "name": "ipython",
    "version": 3
   },
   "file_extension": ".py",
   "mimetype": "text/x-python",
   "name": "python",
   "nbconvert_exporter": "python",
   "pygments_lexer": "ipython3",
   "version": "3.6.0"
  }
 },
 "nbformat": 4,
 "nbformat_minor": 2
}
